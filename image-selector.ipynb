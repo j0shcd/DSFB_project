{
 "cells": [
  {
   "cell_type": "code",
   "execution_count": 1,
   "metadata": {},
   "outputs": [
    {
     "name": "stdout",
     "output_type": "stream",
     "text": [
      "Coordinates: (423.0, 828.0, 454.0, 880.0), Label: 5\n"
     ]
    },
    {
     "data": {
      "text/plain": [
       "<__main__.ImageLabeler at 0x107f4a310>"
      ]
     },
     "execution_count": 1,
     "metadata": {},
     "output_type": "execute_result"
    }
   ],
   "source": [
    "import tkinter as tk\n",
    "from tkinter import simpledialog\n",
    "from PIL import Image, ImageTk\n",
    "import csv\n",
    "\n",
    "class ImageLabeler:\n",
    "    def __init__(self, image_path):\n",
    "        self.root = tk.Tk()\n",
    "        self.root.title(\"Image Labeler\")\n",
    "\n",
    "        self.image_path = image_path\n",
    "        self.canvas = tk.Canvas(self.root, cursor=\"cross\")\n",
    "        self.canvas.pack(side=\"top\", fill=\"both\", expand=True)\n",
    "\n",
    "        # Load image\n",
    "        self.original_image = Image.open(image_path)\n",
    "        self.image = self.original_image.copy()\n",
    "        self.tk_image = ImageTk.PhotoImage(self.image)\n",
    "        self.canvas.create_image(0, 0, image=self.tk_image, anchor=\"nw\")\n",
    "\n",
    "        self.start_x = None\n",
    "        self.start_y = None\n",
    "        self.rect = None\n",
    "        self.zoom_factor = 1.0\n",
    "\n",
    "        self.add_navigation_buttons()\n",
    "\n",
    "        self.canvas.bind(\"<ButtonPress-1>\", self.on_button_press)\n",
    "        self.canvas.bind(\"<B1-Motion>\", self.on_move_press)\n",
    "        self.canvas.bind(\"<ButtonRelease-1>\", self.on_button_release)\n",
    "        self.root.bind(\"<MouseWheel>\", self.on_mouse_wheel)\n",
    "\n",
    "        self.root.mainloop()\n",
    "\n",
    "    def on_button_press(self, event):\n",
    "        self.start_x = self.canvas.canvasx(event.x)\n",
    "        self.start_y = self.canvas.canvasy(event.y)\n",
    "        self.rect = self.canvas.create_rectangle(self.start_x, self.start_y, 1, 1, outline='red', width=2)\n",
    "\n",
    "    def on_move_press(self, event):\n",
    "        curX = self.canvas.canvasx(event.x)\n",
    "        curY = self.canvas.canvasy(event.y)\n",
    "        self.canvas.coords(self.rect, self.start_x, self.start_y, curX, curY)\n",
    "\n",
    "    def on_button_release(self, event):\n",
    "        label = simpledialog.askstring(\"Input\", \"Enter label for the selected area\", parent=self.root)\n",
    "        if label:\n",
    "            x0, y0, x1, y1 = self.canvas.coords(self.rect)\n",
    "            self.save_to_csv(label, (x0, y0, x1, y1))\n",
    "            print(f\"Coordinates: ({x0}, {y0}, {x1}, {y1}), Label: {label}\")\n",
    "\n",
    "    def on_mouse_wheel(self, event):\n",
    "        x = self.canvas.canvasx(event.x)\n",
    "        y = self.canvas.canvasy(event.y)\n",
    "        factor = 1.1 if event.delta > 0 else 0.9\n",
    "        self.zoom_image(x, y, factor)\n",
    "\n",
    "    def zoom_image(self, x, y, factor):\n",
    "        self.zoom_factor *= factor\n",
    "        new_width = int(self.original_image.size[0] * self.zoom_factor)\n",
    "        new_height = int(self.original_image.size[1] * self.zoom_factor)\n",
    "\n",
    "        # Use Image.Resampling.LANCZOS for high-quality downscaling\n",
    "        self.image = self.original_image.resize((new_width, new_height), Image.Resampling.LANCZOS)\n",
    "\n",
    "        self.tk_image = ImageTk.PhotoImage(self.image)\n",
    "        self.canvas.create_image(0, 0, image=self.tk_image, anchor=\"nw\")\n",
    "        self.canvas.config(scrollregion=self.canvas.bbox(tk.ALL))\n",
    "\n",
    "    def add_navigation_buttons(self):\n",
    "        # Create frame for navigation buttons\n",
    "        nav_frame = tk.Frame(self.root)\n",
    "        nav_frame.pack(side=\"bottom\", fill=\"x\")\n",
    "\n",
    "        # Add buttons\n",
    "        up_button = tk.Button(nav_frame, text=\"Up\", command=lambda: self.move_image(0, -20))\n",
    "        up_button.pack(side=\"top\")\n",
    "\n",
    "        down_button = tk.Button(nav_frame, text=\"Down\", command=lambda: self.move_image(0, 20))\n",
    "        down_button.pack(side=\"bottom\")\n",
    "\n",
    "        left_button = tk.Button(nav_frame, text=\"Left\", command=lambda: self.move_image(-20, 0))\n",
    "        left_button.pack(side=\"left\")\n",
    "\n",
    "        right_button = tk.Button(nav_frame, text=\"Right\", command=lambda: self.move_image(20, 0))\n",
    "        right_button.pack(side=\"right\")\n",
    "    \n",
    "    def move_image(self, x_delta, y_delta):\n",
    "        # Move the canvas view\n",
    "        self.canvas.xview_scroll(int(x_delta / 7), \"units\")\n",
    "        self.canvas.yview_scroll(int(y_delta / 7), \"units\")\n",
    "\n",
    "    def save_to_csv(self, label, coords):\n",
    "        with open('labeled_data.csv', 'a', newline='') as file:\n",
    "            writer = csv.writer(file)\n",
    "            writer.writerow([self.image_path, label, coords])\n",
    "\n",
    "# Directly load \"test.png\"\n",
    "ImageLabeler('test.png')"
   ]
  },
  {
   "cell_type": "code",
   "execution_count": null,
   "metadata": {},
   "outputs": [],
   "source": []
  }
 ],
 "metadata": {
  "kernelspec": {
   "display_name": "Python 3",
   "language": "python",
   "name": "python3"
  },
  "language_info": {
   "codemirror_mode": {
    "name": "ipython",
    "version": 3
   },
   "file_extension": ".py",
   "mimetype": "text/x-python",
   "name": "python",
   "nbconvert_exporter": "python",
   "pygments_lexer": "ipython3",
   "version": "3.9.18"
  }
 },
 "nbformat": 4,
 "nbformat_minor": 2
}
