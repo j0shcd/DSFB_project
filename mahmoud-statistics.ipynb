{
 "cells": [
  {
   "cell_type": "code",
   "execution_count": 2,
   "metadata": {},
   "outputs": [],
   "source": [
    "import pandas as pd\n",
    "import ast"
   ]
  },
  {
   "cell_type": "markdown",
   "metadata": {},
   "source": [
    "### Merge the csv files"
   ]
  },
  {
   "cell_type": "code",
   "execution_count": 3,
   "metadata": {},
   "outputs": [
    {
     "data": {
      "text/html": [
       "<div>\n",
       "<style scoped>\n",
       "    .dataframe tbody tr th:only-of-type {\n",
       "        vertical-align: middle;\n",
       "    }\n",
       "\n",
       "    .dataframe tbody tr th {\n",
       "        vertical-align: top;\n",
       "    }\n",
       "\n",
       "    .dataframe thead th {\n",
       "        text-align: right;\n",
       "    }\n",
       "</style>\n",
       "<table border=\"1\" class=\"dataframe\">\n",
       "  <thead>\n",
       "    <tr style=\"text-align: right;\">\n",
       "      <th></th>\n",
       "      <th>file_name</th>\n",
       "      <th>character</th>\n",
       "      <th>order</th>\n",
       "      <th>top_left</th>\n",
       "      <th>bottom_right</th>\n",
       "    </tr>\n",
       "  </thead>\n",
       "  <tbody>\n",
       "    <tr>\n",
       "      <th>0</th>\n",
       "      <td>CMC_CCM_2018_01_30_23_14_21_55860660845.png</td>\n",
       "      <td>5</td>\n",
       "      <td>1</td>\n",
       "      <td>(855.0, 787.0)</td>\n",
       "      <td>(906.0, 820.0)</td>\n",
       "    </tr>\n",
       "    <tr>\n",
       "      <th>1</th>\n",
       "      <td>CMC_CCM_2018_01_30_23_14_21_55860660845.png</td>\n",
       "      <td>5</td>\n",
       "      <td>2</td>\n",
       "      <td>(855.0, 755.0)</td>\n",
       "      <td>(906.0, 786.0)</td>\n",
       "    </tr>\n",
       "    <tr>\n",
       "      <th>2</th>\n",
       "      <td>CMC_CCM_2018_01_30_23_14_21_55860660845.png</td>\n",
       "      <td>8</td>\n",
       "      <td>3</td>\n",
       "      <td>(851.0, 720.0)</td>\n",
       "      <td>(907.0, 750.0)</td>\n",
       "    </tr>\n",
       "    <tr>\n",
       "      <th>3</th>\n",
       "      <td>CMC_CCM_2018_01_30_23_14_21_55860660845.png</td>\n",
       "      <td>6</td>\n",
       "      <td>4</td>\n",
       "      <td>(847.0, 684.0)</td>\n",
       "      <td>(904.0, 717.0)</td>\n",
       "    </tr>\n",
       "    <tr>\n",
       "      <th>4</th>\n",
       "      <td>CMC_CCM_2018_01_30_23_14_21_55860660845.png</td>\n",
       "      <td>0</td>\n",
       "      <td>5</td>\n",
       "      <td>(845.0, 660.0)</td>\n",
       "      <td>(903.0, 685.0)</td>\n",
       "    </tr>\n",
       "  </tbody>\n",
       "</table>\n",
       "</div>"
      ],
      "text/plain": [
       "                                     file_name character  order  \\\n",
       "0  CMC_CCM_2018_01_30_23_14_21_55860660845.png         5      1   \n",
       "1  CMC_CCM_2018_01_30_23_14_21_55860660845.png         5      2   \n",
       "2  CMC_CCM_2018_01_30_23_14_21_55860660845.png         8      3   \n",
       "3  CMC_CCM_2018_01_30_23_14_21_55860660845.png         6      4   \n",
       "4  CMC_CCM_2018_01_30_23_14_21_55860660845.png         0      5   \n",
       "\n",
       "         top_left    bottom_right  \n",
       "0  (855.0, 787.0)  (906.0, 820.0)  \n",
       "1  (855.0, 755.0)  (906.0, 786.0)  \n",
       "2  (851.0, 720.0)  (907.0, 750.0)  \n",
       "3  (847.0, 684.0)  (904.0, 717.0)  \n",
       "4  (845.0, 660.0)  (903.0, 685.0)  "
      ]
     },
     "execution_count": 3,
     "metadata": {},
     "output_type": "execute_result"
    }
   ],
   "source": [
    "data_mahmoud = pd.read_csv('./labeled_data_Mahmoud.csv')\n",
    "data_josh = pd.read_csv('./labeled_data_Josh_edited_byZhan.csv')\n",
    "data_zhan = pd.read_csv('./labeled_data_Zhan.csv')\n",
    "data_awen = pd.read_csv('./labeled_data_Awen.csv')\n",
    "data = pd.concat([data_mahmoud, data_josh, data_zhan, data_awen], ignore_index=True)\n",
    "data.head()"
   ]
  },
  {
   "cell_type": "markdown",
   "metadata": {},
   "source": [
    "### Number of unique images"
   ]
  },
  {
   "cell_type": "code",
   "execution_count": 4,
   "metadata": {},
   "outputs": [
    {
     "data": {
      "text/plain": [
       "90"
      ]
     },
     "execution_count": 4,
     "metadata": {},
     "output_type": "execute_result"
    }
   ],
   "source": [
    "data[\"file_name\"].nunique()"
   ]
  },
  {
   "cell_type": "markdown",
   "metadata": {},
   "source": [
    "### Characters"
   ]
  },
  {
   "cell_type": "code",
   "execution_count": 5,
   "metadata": {},
   "outputs": [
    {
     "data": {
      "text/plain": [
       "13"
      ]
     },
     "execution_count": 5,
     "metadata": {},
     "output_type": "execute_result"
    }
   ],
   "source": [
    "# number unique characters\n",
    "data[\"character\"].nunique()"
   ]
  },
  {
   "cell_type": "code",
   "execution_count": 6,
   "metadata": {},
   "outputs": [
    {
     "data": {
      "text/plain": [
       "array(['5', '8', '6', '0', '4', '3', '9', '7', '1', 'C', 'X', '2', 'E'],\n",
       "      dtype=object)"
      ]
     },
     "execution_count": 6,
     "metadata": {},
     "output_type": "execute_result"
    }
   ],
   "source": [
    "# List of different characters found\n",
    "data[\"character\"].unique()"
   ]
  },
  {
   "cell_type": "markdown",
   "metadata": {},
   "source": [
    "The characters used are the 10 numbers and 3 letters \"C\", \"X\" and \"E\""
   ]
  },
  {
   "cell_type": "markdown",
   "metadata": {},
   "source": [
    "### Charcaters distribution"
   ]
  },
  {
   "cell_type": "code",
   "execution_count": 7,
   "metadata": {},
   "outputs": [
    {
     "data": {
      "text/plain": [
       "<AxesSubplot: >"
      ]
     },
     "execution_count": 7,
     "metadata": {},
     "output_type": "execute_result"
    },
    {
     "data": {
      "image/png": "[encoded data removed]",
      "text/plain": [
       "<Figure size 640x480 with 1 Axes>"
      ]
     },
     "metadata": {},
     "output_type": "display_data"
    }
   ],
   "source": [
    "data['character'].value_counts().plot(kind='bar')"
   ]
  },
  {
   "cell_type": "markdown",
   "metadata": {},
   "source": [
    "### Bounding boxes"
   ]
  },
  {
   "cell_type": "code",
   "execution_count": 8,
   "metadata": {},
   "outputs": [],
   "source": [
    "# Convert string representations of tuples to actual tuples\n",
    "data['top_left'] = data['top_left'].apply(ast.literal_eval)\n",
    "data['bottom_right'] = data['bottom_right'].apply(ast.literal_eval)\n",
    "\n",
    "# Calculate width, height, and area of bounding boxes\n",
    "data['width'] = data['bottom_right'].apply(lambda br: br[0]) - data['top_left'].apply(lambda tl: tl[0])\n",
    "data['height'] = data['bottom_right'].apply(lambda br: br[1]) - data['top_left'].apply(lambda tl: tl[1])\n",
    "data['area'] = data['width'] * data['height']"
   ]
  },
  {
   "cell_type": "code",
   "execution_count": 9,
   "metadata": {},
   "outputs": [],
   "source": [
    "# Average bounding box size\n",
    "average_width = data['width'].mean()\n",
    "average_height = data['height'].mean()\n",
    "average_area = data['area'].mean()"
   ]
  },
  {
   "cell_type": "code",
   "execution_count": 10,
   "metadata": {},
   "outputs": [
    {
     "name": "stdout",
     "output_type": "stream",
     "text": [
      "\n",
      "Average bounding box width: 64.18282828282828\n",
      "Average bounding box height: 39.21313131313131\n",
      "Average bounding box area: 2626.691919191919\n"
     ]
    }
   ],
   "source": [
    "print(\"\\nAverage bounding box width:\", average_width)\n",
    "print(\"Average bounding box height:\", average_height)\n",
    "print(\"Average bounding box area:\", average_area)"
   ]
  },
  {
   "cell_type": "code",
   "execution_count": null,
   "metadata": {},
   "outputs": [],
   "source": []
  }
 ],
 "metadata": {
  "kernelspec": {
   "display_name": "Python 3",
   "language": "python",
   "name": "python3"
  },
  "language_info": {
   "codemirror_mode": {
    "name": "ipython",
    "version": 3
   },
   "file_extension": ".py",
   "mimetype": "text/x-python",
   "name": "python",
   "nbconvert_exporter": "python",
   "pygments_lexer": "ipython3",
   "version": "3.9.13"
  }
 },
 "nbformat": 4,
 "nbformat_minor": 4
}
