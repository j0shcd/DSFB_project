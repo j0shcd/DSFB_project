{
 "cells": [
  {
   "cell_type": "code",
   "execution_count": 37,
   "metadata": {},
   "outputs": [],
   "source": [
    "import pandas as pd\n",
    "import os\n",
    "from imageLabeler import ImageLabeler\n",
    "\n",
    "def run_labeller():\n",
    "    # lists files in your data folder\n",
    "    files = os.listdir('./data')\n",
    "\n",
    "    # Filter out non-image files\n",
    "    image_files = [f for f in files if f.lower().endswith(('.png', '.jpg', '.jpeg'))]\n",
    "\n",
    "    # only run when are ready to label everything, hard to debug, takes about 25-40 min to do this depending on your speed\n",
    "    for image_file in image_files:\n",
    "        image_path = os.path.join('./data', image_file)\n",
    "        print(f\"Labeling image: {image_file}\")\n",
    "\n",
    "        # label the image\n",
    "        ImageLabeler(image_path)\n",
    "\n",
    "run = False\n",
    "if run:\n",
    "    run_labeller()"
   ]
  },
  {
   "cell_type": "code",
   "execution_count": null,
   "metadata": {},
   "outputs": [],
   "source": [
    "df = pd.read_csv('labeled_data.csv')\n",
    "\n",
    "df = pd.DataFrame([df.columns.values] + df.values.tolist())\n",
    "df.columns = ['file_name', 'character', 'position']\n",
    "\n",
    "df['file_name'] = df['file_name'].str.replace('./data/', '')\n",
    "order_values = list(range(1, 12)) * (len(df) // 11) + list(range(1, (len(df) % 11) + 1))\n",
    "\n",
    "df['order'] = order_values\n",
    "\n",
    "df['position'] = df['position'].apply(lambda x: tuple(map(float, x.strip('()').split(', '))))\n",
    "\n",
    "df['top_left'] = df['position'].apply(lambda x: (x[0], x[1]))\n",
    "df['bottom_right'] = df['position'].apply(lambda x: (x[2], x[3]))\n",
    "\n",
    "df.drop(columns=['position'], inplace=True)\n",
    "\n",
    "df.to_csv('labeled_data_cleaned.csv', index=False)\n",
    "\n",
    "df.head()"
   ]
  },
  {
   "cell_type": "code",
   "execution_count": null,
   "metadata": {},
   "outputs": [],
   "source": [
    "data = pd.read_csv('./labeled_data_cleaned.csv')\n",
    "data.head()"
   ]
  },
  {
   "cell_type": "code",
   "execution_count": null,
   "metadata": {},
   "outputs": [],
   "source": [
    "data"
   ]
  },
  {
   "cell_type": "code",
   "execution_count": 41,
   "metadata": {},
   "outputs": [
    {
     "name": "stdout",
     "output_type": "stream",
     "text": [
      "Problematic Files: []\n"
     ]
    }
   ],
   "source": [
    "def check_character_alignment(csv_file_path):\n",
    "    # Load the CSV file\n",
    "    df = pd.read_csv(csv_file_path)\n",
    "\n",
    "    # Number of characters to check and length of file extension (e.g., for '.png')\n",
    "    n_characters = 11\n",
    "    file_extension_length = 4\n",
    "\n",
    "    # List to store names of problematic files\n",
    "    problematic_files = []\n",
    "\n",
    "    # Process each file in the DataFrame\n",
    "    for file_name, group in df.groupby('file_name'):\n",
    "        # Extract the last 11 characters from the file name (excluding the extension)\n",
    "        last_characters = file_name[-(n_characters + file_extension_length):-file_extension_length]\n",
    "\n",
    "        # Concatenate characters from the DataFrame in the given order\n",
    "        concatenated_characters = ''.join(group.sort_values(by='order')['character'].tolist())\n",
    "\n",
    "        # Check if the concatenated characters match the last 11 characters of the filename\n",
    "        if concatenated_characters != last_characters:\n",
    "            problematic_files.append(file_name)\n",
    "\n",
    "    return problematic_files\n",
    "\n",
    "# Path to the CSV file\n",
    "csv_file_path = './labeled_data_cleaned.csv'  # Replace with your actual CSV file path\n",
    "\n",
    "# Perform the analysis\n",
    "problematic_files = check_character_alignment(csv_file_path)\n",
    "\n",
    "# Displaying the problematic file names\n",
    "print(\"Problematic Files:\", problematic_files)\n"
   ]
  }
 ],
 "metadata": {
  "kernelspec": {
   "display_name": "Python 3 (ipykernel)",
   "language": "python",
   "name": "python3"
  },
  "language_info": {
   "codemirror_mode": {
    "name": "ipython",
    "version": 3
   },
   "file_extension": ".py",
   "mimetype": "text/x-python",
   "name": "python",
   "nbconvert_exporter": "python",
   "pygments_lexer": "ipython3",
   "version": "3.9.13"
  }
 },
 "nbformat": 4,
 "nbformat_minor": 4
}
